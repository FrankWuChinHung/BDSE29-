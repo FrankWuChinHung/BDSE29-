{
 "cells": [
  {
   "cell_type": "code",
   "execution_count": 1,
   "id": "dce7c0c7-e07b-4890-8b52-c4844626ec99",
   "metadata": {},
   "outputs": [
    {
     "name": "stderr",
     "output_type": "stream",
     "text": [
      "C:\\Users\\Frank\\AppData\\Local\\Temp\\ipykernel_15548\\1939017306.py:26: DtypeWarning: Columns (20) have mixed types. Specify dtype option on import or set low_memory=False.\n",
      "  df = pd.read_csv(f'{dir_path}/{file_name}',usecols = [20])\n",
      "C:\\Users\\Frank\\AppData\\Local\\Temp\\ipykernel_15548\\1939017306.py:26: DtypeWarning: Columns (20) have mixed types. Specify dtype option on import or set low_memory=False.\n",
      "  df = pd.read_csv(f'{dir_path}/{file_name}',usecols = [20])\n",
      "C:\\Users\\Frank\\AppData\\Local\\Temp\\ipykernel_15548\\1939017306.py:26: DtypeWarning: Columns (20) have mixed types. Specify dtype option on import or set low_memory=False.\n",
      "  df = pd.read_csv(f'{dir_path}/{file_name}',usecols = [20])\n",
      "C:\\Users\\Frank\\AppData\\Local\\Temp\\ipykernel_15548\\1939017306.py:26: DtypeWarning: Columns (20) have mixed types. Specify dtype option on import or set low_memory=False.\n",
      "  df = pd.read_csv(f'{dir_path}/{file_name}',usecols = [20])\n",
      "C:\\Users\\Frank\\AppData\\Local\\Temp\\ipykernel_15548\\1939017306.py:26: DtypeWarning: Columns (20) have mixed types. Specify dtype option on import or set low_memory=False.\n",
      "  df = pd.read_csv(f'{dir_path}/{file_name}',usecols = [20])\n",
      "C:\\Users\\Frank\\AppData\\Local\\Temp\\ipykernel_15548\\1939017306.py:26: DtypeWarning: Columns (20) have mixed types. Specify dtype option on import or set low_memory=False.\n",
      "  df = pd.read_csv(f'{dir_path}/{file_name}',usecols = [20])\n",
      "C:\\Users\\Frank\\AppData\\Local\\Temp\\ipykernel_15548\\1939017306.py:26: DtypeWarning: Columns (20) have mixed types. Specify dtype option on import or set low_memory=False.\n",
      "  df = pd.read_csv(f'{dir_path}/{file_name}',usecols = [20])\n"
     ]
    }
   ],
   "source": [
    "import pandas as pd\n",
    "import os\n",
    "import re\n",
    "\n",
    "# 指定目錄路徑\n",
    "dir_path = 'C:/Users/Frank/專題/天氣資料'\n",
    "\n",
    "# 取得目錄下所有檔案名稱\n",
    "file_names = os.listdir(dir_path)\n",
    "\n",
    "# 建立檔案，並寫入檔案名稱\n",
    "with open('file_names.txt', 'w') as f:\n",
    "    for name in file_names:\n",
    "        f.write(name + '\\n')\n",
    "\n",
    "# 讀取檔案名稱表\n",
    "with open('file_names.txt', 'r') as f:\n",
    "    file_names = f.read().splitlines()\n",
    "\n",
    "# 依序讀取所有csv文件\n",
    "for file_name in file_names:\n",
    "\n",
    "    \n",
    "    #抓檔名\n",
    "    #指定欄位\n",
    "    df = pd.read_csv(f'{dir_path}/{file_name}',usecols = [20])\n",
    "    \n",
    "    # 使用正則表達式將非數字字元替換為空字串，然後轉換為浮點數\n",
    "    df = df.replace(to_replace=r\"[^0-9\\.]+\", value=\"\", regex=True).astype(float)\n",
    "    \n",
    "    # 將選定的欄代入新的變數\n",
    "    cols_to_fill = [\"station_pressure\"]\n",
    "    # 將選定的兩欄補上mean值\n",
    "    df[cols_to_fill] = df[cols_to_fill].fillna(df[cols_to_fill].mean())\n",
    "    # 確定補值後兩欄結果\n",
    "    # print(df[cols_to_fill].values)\n",
    "    \n",
    "    # 新檔案名稱改成原檔名加上_station_pressure\n",
    "    new_file_name = file_name.replace('.csv', '_station_pressure.csv')\n",
    "\n",
    "    \n",
    "    # 建立目錄，另存新檔\n",
    "    folder_path = '天氣資料_改'\n",
    "    if not os.path.exists(folder_path):\n",
    "        os.makedirs(folder_path)\n",
    "        \n",
    "    #存檔並寫出檔案 不要index\n",
    "    df.to_csv(os.path.join(folder_path, new_file_name), sep=',', index=None)"
   ]
  },
  {
   "cell_type": "code",
   "execution_count": null,
   "id": "69c977fd-19ab-4bf2-be88-577380fe381c",
   "metadata": {},
   "outputs": [],
   "source": []
  }
 ],
 "metadata": {
  "kernelspec": {
   "display_name": "Python 3 (ipykernel)",
   "language": "python",
   "name": "python3"
  },
  "language_info": {
   "codemirror_mode": {
    "name": "ipython",
    "version": 3
   },
   "file_extension": ".py",
   "mimetype": "text/x-python",
   "name": "python",
   "nbconvert_exporter": "python",
   "pygments_lexer": "ipython3",
   "version": "3.9.16"
  }
 },
 "nbformat": 4,
 "nbformat_minor": 5
}
